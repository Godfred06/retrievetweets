{
 "cells": [
  {
   "cell_type": "markdown",
   "metadata": {},
   "source": [
    "This project is to analyse the my tweets from June 2014 to July 2022.\n",
    "Objectives of the project\n",
    "1. Sentiment analysis for the overall mood in my tweets\n",
    "2. Topic Modeling for the stuff I am interested in talking about on my social media\n",
    "3. SOme form of visualization of the stuf I talk about.\n",
    "\n",
    "Plan\n",
    "1. To first retrieve all of my tweets write it to a csv file for subsequent use when I do not have internet connection\n",
    "2. Put the data into a dataframe\n",
    "3. Perform some data cleaning to make the dataframe ready for analysis\n",
    "4. Perform the simple preprocessing needed in order to conduct the sentiment analysis as well as the topic modeling \n",
    "5. Sentiment analysis for the overall tone in my tweets\n",
    "6. Topic Modeling for the various things I do talk about on my twitter account\n",
    "7. Visualizatioin for sharing on my social media and linkedin\n"
   ]
  },
  {
   "cell_type": "code",
   "execution_count": 4,
   "metadata": {},
   "outputs": [],
   "source": [
    "%matplotlib ipympl\n",
    "import tweepy \n",
    "import pandas as pd\n",
    "import numpy as np\n",
    "import matplotlib.pyplot as plt\n",
    "import emoji"
   ]
  },
  {
   "cell_type": "markdown",
   "metadata": {},
   "source": [
    "I have to remember to change some of the letters in the keys and tokens to make it invalid so it is not abused by anyone. "
   ]
  },
  {
   "cell_type": "code",
   "execution_count": 5,
   "metadata": {},
   "outputs": [],
   "source": [
    "api_key= '7KuITiL0Jh9WukpwyIJIcmiji'\n",
    "api_secret= 'tpYuzVZmBHX35p1lNuyFQQOBYoFFN3u60qF1hBNifFelG2blgU'\n",
    "bearer = 'AAAAAAAAAAAAAAAAAAAAAK%2BbhAEAAAAAHaEZWcWsb3OglJwNj%2FCnP6DbWNk%3DYaQvGBImj4AHKUcHMEUX7x2v3YmA3UcETdthZrKn6t6ggyOveR'\n",
    "access_token = '318341693-hnRKL0rFTQqEDzsQbwxJQzqLUNiMrGoytJdVWhkL'\n",
    "access_secret= 'CfZjgvxqmPPU2wshDldAruUk5vSAUZL1OMDjCWq2yLLUW'"
   ]
  },
  {
   "cell_type": "code",
   "execution_count": 6,
   "metadata": {},
   "outputs": [],
   "source": [
    "def my_tweets(username):\n",
    "    '''Function to return my tweets in an array'''\n",
    "    #My authorization and user access keys\n",
    "    auth= tweepy.OAuthHandler(api_key, api_secret,access_token=access_token, access_token_secret=access_secret)\n",
    "\n",
    "    #Calling the api with my authentication details. \n",
    "    api= tweepy.API(auth)\n",
    "    #Pulling  out just 200 tweets for the start\n",
    "    num_tweets= 3200\n",
    "    tweets= api.user_timeline(screen_name=username, count= num_tweets, include_rts=True, tweet_mode='extended')\n",
    "    \n",
    "    tweet_array= [(tweet.full_text, tweet.created_at, tweet.id) for tweet in tweets]\n",
    "    alltweets=[]\n",
    "    alltweets.extend(tweet_array)\n",
    "    oldest_id= tweet_array[-1][2]\n",
    "\n",
    "    while True:\n",
    "        tweets=api.user_timeline(screen_name=username, count= num_tweets, max_id= oldest_id-1, include_rts=True, tweet_mode='extended')\n",
    "        tweet_array= [(tweet.full_text, tweet.created_at, tweet.id)for tweet in tweets]\n",
    "        if len(tweets)==0:\n",
    "            break\n",
    "        oldest_id= tweets[-1].id\n",
    "        alltweets.extend(tweet_array)\n",
    "\n",
    "\n",
    "    return alltweets\n",
    "\n",
    "    \n",
    "data= my_tweets('@Godfred__')\n"
   ]
  },
  {
   "cell_type": "code",
   "execution_count": 7,
   "metadata": {},
   "outputs": [],
   "source": [
    "def tweets_data(tweets):\n",
    "    '''This will add tweets, created at and id and puts them into a dataframe'''\n",
    "    tweets= pd.DataFrame(data={'created_at':[tweet[1] for tweet in tweets],\n",
    "                                'Tweets':[tweet[0] for tweet in tweets],\n",
    "                                'id':[tweet[2] for tweet in tweets]\n",
    "                                \n",
    "                                })\n",
    "\n",
    "    return tweets                            "
   ]
  },
  {
   "cell_type": "code",
   "execution_count": 8,
   "metadata": {},
   "outputs": [
    {
     "data": {
      "text/html": [
       "<div>\n",
       "<style scoped>\n",
       "    .dataframe tbody tr th:only-of-type {\n",
       "        vertical-align: middle;\n",
       "    }\n",
       "\n",
       "    .dataframe tbody tr th {\n",
       "        vertical-align: top;\n",
       "    }\n",
       "\n",
       "    .dataframe thead th {\n",
       "        text-align: right;\n",
       "    }\n",
       "</style>\n",
       "<table border=\"1\" class=\"dataframe\">\n",
       "  <thead>\n",
       "    <tr style=\"text-align: right;\">\n",
       "      <th></th>\n",
       "      <th>created_at</th>\n",
       "      <th>Tweets</th>\n",
       "      <th>id</th>\n",
       "    </tr>\n",
       "  </thead>\n",
       "  <tbody>\n",
       "    <tr>\n",
       "      <th>0</th>\n",
       "      <td>2022-10-16 17:15:30+00:00</td>\n",
       "      <td>@Gibril_jnr 🤣🤣🤣🤣🤣🤣🤣🤣🤣🤣🤣🤣🤣🤣🤣🤣🤣🤣</td>\n",
       "      <td>1581695340742262784</td>\n",
       "    </tr>\n",
       "    <tr>\n",
       "      <th>1</th>\n",
       "      <td>2022-10-16 15:36:56+00:00</td>\n",
       "      <td>Wild https://t.co/pXWLc5xZiq</td>\n",
       "      <td>1581670535129620482</td>\n",
       "    </tr>\n",
       "    <tr>\n",
       "      <th>2</th>\n",
       "      <td>2022-10-16 14:12:59+00:00</td>\n",
       "      <td>@Gibril_jnr Oh nah. My personal things I dey do</td>\n",
       "      <td>1581649409896747008</td>\n",
       "    </tr>\n",
       "    <tr>\n",
       "      <th>3</th>\n",
       "      <td>2022-10-16 14:08:43+00:00</td>\n",
       "      <td>This is such a huge milestone for me and I am ...</td>\n",
       "      <td>1581648334418169860</td>\n",
       "    </tr>\n",
       "    <tr>\n",
       "      <th>4</th>\n",
       "      <td>2022-10-16 07:15:58+00:00</td>\n",
       "      <td>@kwabena_marvin 🤣🤣🤣🤣🤣🤣🤣</td>\n",
       "      <td>1581544465462095872</td>\n",
       "    </tr>\n",
       "  </tbody>\n",
       "</table>\n",
       "</div>"
      ],
      "text/plain": [
       "                 created_at  \\\n",
       "0 2022-10-16 17:15:30+00:00   \n",
       "1 2022-10-16 15:36:56+00:00   \n",
       "2 2022-10-16 14:12:59+00:00   \n",
       "3 2022-10-16 14:08:43+00:00   \n",
       "4 2022-10-16 07:15:58+00:00   \n",
       "\n",
       "                                              Tweets                   id  \n",
       "0                     @Gibril_jnr 🤣🤣🤣🤣🤣🤣🤣🤣🤣🤣🤣🤣🤣🤣🤣🤣🤣🤣  1581695340742262784  \n",
       "1                       Wild https://t.co/pXWLc5xZiq  1581670535129620482  \n",
       "2    @Gibril_jnr Oh nah. My personal things I dey do  1581649409896747008  \n",
       "3  This is such a huge milestone for me and I am ...  1581648334418169860  \n",
       "4                            @kwabena_marvin 🤣🤣🤣🤣🤣🤣🤣  1581544465462095872  "
      ]
     },
     "execution_count": 8,
     "metadata": {},
     "output_type": "execute_result"
    }
   ],
   "source": [
    "tweets_df =tweets_data(data)\n",
    "tweets_df.head()"
   ]
  },
  {
   "cell_type": "code",
   "execution_count": 9,
   "metadata": {},
   "outputs": [
    {
     "name": "stdout",
     "output_type": "stream",
     "text": [
      "<class 'pandas.core.frame.DataFrame'>\n",
      "RangeIndex: 3213 entries, 0 to 3212\n",
      "Data columns (total 3 columns):\n",
      " #   Column      Non-Null Count  Dtype              \n",
      "---  ------      --------------  -----              \n",
      " 0   created_at  3213 non-null   datetime64[ns, UTC]\n",
      " 1   Tweets      3213 non-null   object             \n",
      " 2   id          3213 non-null   int64              \n",
      "dtypes: datetime64[ns, UTC](1), int64(1), object(1)\n",
      "memory usage: 75.4+ KB\n"
     ]
    }
   ],
   "source": [
    "#Converting the created_at column into a real date column\n",
    "tweets_df['created_at']= pd.to_datetime(tweets_df['created_at'], utc=False)\n",
    "tweets_df.info()\n"
   ]
  },
  {
   "cell_type": "code",
   "execution_count": 10,
   "metadata": {},
   "outputs": [
    {
     "name": "stdout",
     "output_type": "stream",
     "text": [
      "The first tweet was tweeted on 2021-05-22 01:42:13+00:00\n",
      "The last tweet was tweeted on 2022-10-16 17:15:30+00:00\n"
     ]
    }
   ],
   "source": [
    "print('The first tweet was tweeted on {}'.format(tweets_df['created_at'].min()))\n",
    "print('The last tweet was tweeted on {}'. format(tweets_df['created_at'].max()))"
   ]
  },
  {
   "cell_type": "code",
   "execution_count": 13,
   "metadata": {},
   "outputs": [],
   "source": [
    "#Writing the new tweets into a CSV to be used offline. \n",
    "tweets_df.to_csv('God.csv')"
   ]
  }
 ],
 "metadata": {
  "kernelspec": {
   "display_name": "Python 3.9.7 64-bit",
   "language": "python",
   "name": "python3"
  },
  "language_info": {
   "codemirror_mode": {
    "name": "ipython",
    "version": 3
   },
   "file_extension": ".py",
   "mimetype": "text/x-python",
   "name": "python",
   "nbconvert_exporter": "python",
   "pygments_lexer": "ipython3",
   "version": "3.9.7"
  },
  "orig_nbformat": 4,
  "vscode": {
   "interpreter": {
    "hash": "e67998156ea83e4a325ffbecb55a4d3b4b7e9af6f2214579e512edd97a0b1ec2"
   }
  }
 },
 "nbformat": 4,
 "nbformat_minor": 2
}
